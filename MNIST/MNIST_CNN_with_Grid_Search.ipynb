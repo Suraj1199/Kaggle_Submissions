{
  "cells": [
    {
      "cell_type": "code",
      "execution_count": 1,
      "id": "29145d24",
      "metadata": {
        "id": "29145d24"
      },
      "outputs": [],
      "source": [
        "import numpy as np\n",
        "import pandas as pd"
      ]
    },
    {
      "cell_type": "markdown",
      "id": "cd44f986",
      "metadata": {
        "id": "cd44f986"
      },
      "source": [
        "### Load MNIST Data"
      ]
    },
    {
      "cell_type": "code",
      "execution_count": 7,
      "id": "987ac285",
      "metadata": {
        "colab": {
          "base_uri": "https://localhost:8080/",
          "height": 483
        },
        "id": "987ac285",
        "outputId": "38b575b9-b1df-4519-9d02-ba79d42d061a"
      },
      "outputs": [
        {
          "output_type": "execute_result",
          "data": {
            "text/html": [
              "\n",
              "  <div id=\"df-adce0a10-1b47-440a-9302-b5fb9c469b3e\">\n",
              "    <div class=\"colab-df-container\">\n",
              "      <div>\n",
              "<style scoped>\n",
              "    .dataframe tbody tr th:only-of-type {\n",
              "        vertical-align: middle;\n",
              "    }\n",
              "\n",
              "    .dataframe tbody tr th {\n",
              "        vertical-align: top;\n",
              "    }\n",
              "\n",
              "    .dataframe thead th {\n",
              "        text-align: right;\n",
              "    }\n",
              "</style>\n",
              "<table border=\"1\" class=\"dataframe\">\n",
              "  <thead>\n",
              "    <tr style=\"text-align: right;\">\n",
              "      <th></th>\n",
              "      <th>label</th>\n",
              "      <th>pixel0</th>\n",
              "      <th>pixel1</th>\n",
              "      <th>pixel2</th>\n",
              "      <th>pixel3</th>\n",
              "      <th>pixel4</th>\n",
              "      <th>pixel5</th>\n",
              "      <th>pixel6</th>\n",
              "      <th>pixel7</th>\n",
              "      <th>pixel8</th>\n",
              "      <th>...</th>\n",
              "      <th>pixel774</th>\n",
              "      <th>pixel775</th>\n",
              "      <th>pixel776</th>\n",
              "      <th>pixel777</th>\n",
              "      <th>pixel778</th>\n",
              "      <th>pixel779</th>\n",
              "      <th>pixel780</th>\n",
              "      <th>pixel781</th>\n",
              "      <th>pixel782</th>\n",
              "      <th>pixel783</th>\n",
              "    </tr>\n",
              "  </thead>\n",
              "  <tbody>\n",
              "    <tr>\n",
              "      <th>0</th>\n",
              "      <td>1</td>\n",
              "      <td>0</td>\n",
              "      <td>0</td>\n",
              "      <td>0</td>\n",
              "      <td>0</td>\n",
              "      <td>0</td>\n",
              "      <td>0</td>\n",
              "      <td>0</td>\n",
              "      <td>0</td>\n",
              "      <td>0</td>\n",
              "      <td>...</td>\n",
              "      <td>0</td>\n",
              "      <td>0</td>\n",
              "      <td>0</td>\n",
              "      <td>0</td>\n",
              "      <td>0</td>\n",
              "      <td>0</td>\n",
              "      <td>0</td>\n",
              "      <td>0</td>\n",
              "      <td>0</td>\n",
              "      <td>0</td>\n",
              "    </tr>\n",
              "    <tr>\n",
              "      <th>1</th>\n",
              "      <td>0</td>\n",
              "      <td>0</td>\n",
              "      <td>0</td>\n",
              "      <td>0</td>\n",
              "      <td>0</td>\n",
              "      <td>0</td>\n",
              "      <td>0</td>\n",
              "      <td>0</td>\n",
              "      <td>0</td>\n",
              "      <td>0</td>\n",
              "      <td>...</td>\n",
              "      <td>0</td>\n",
              "      <td>0</td>\n",
              "      <td>0</td>\n",
              "      <td>0</td>\n",
              "      <td>0</td>\n",
              "      <td>0</td>\n",
              "      <td>0</td>\n",
              "      <td>0</td>\n",
              "      <td>0</td>\n",
              "      <td>0</td>\n",
              "    </tr>\n",
              "    <tr>\n",
              "      <th>2</th>\n",
              "      <td>1</td>\n",
              "      <td>0</td>\n",
              "      <td>0</td>\n",
              "      <td>0</td>\n",
              "      <td>0</td>\n",
              "      <td>0</td>\n",
              "      <td>0</td>\n",
              "      <td>0</td>\n",
              "      <td>0</td>\n",
              "      <td>0</td>\n",
              "      <td>...</td>\n",
              "      <td>0</td>\n",
              "      <td>0</td>\n",
              "      <td>0</td>\n",
              "      <td>0</td>\n",
              "      <td>0</td>\n",
              "      <td>0</td>\n",
              "      <td>0</td>\n",
              "      <td>0</td>\n",
              "      <td>0</td>\n",
              "      <td>0</td>\n",
              "    </tr>\n",
              "    <tr>\n",
              "      <th>3</th>\n",
              "      <td>4</td>\n",
              "      <td>0</td>\n",
              "      <td>0</td>\n",
              "      <td>0</td>\n",
              "      <td>0</td>\n",
              "      <td>0</td>\n",
              "      <td>0</td>\n",
              "      <td>0</td>\n",
              "      <td>0</td>\n",
              "      <td>0</td>\n",
              "      <td>...</td>\n",
              "      <td>0</td>\n",
              "      <td>0</td>\n",
              "      <td>0</td>\n",
              "      <td>0</td>\n",
              "      <td>0</td>\n",
              "      <td>0</td>\n",
              "      <td>0</td>\n",
              "      <td>0</td>\n",
              "      <td>0</td>\n",
              "      <td>0</td>\n",
              "    </tr>\n",
              "    <tr>\n",
              "      <th>4</th>\n",
              "      <td>0</td>\n",
              "      <td>0</td>\n",
              "      <td>0</td>\n",
              "      <td>0</td>\n",
              "      <td>0</td>\n",
              "      <td>0</td>\n",
              "      <td>0</td>\n",
              "      <td>0</td>\n",
              "      <td>0</td>\n",
              "      <td>0</td>\n",
              "      <td>...</td>\n",
              "      <td>0</td>\n",
              "      <td>0</td>\n",
              "      <td>0</td>\n",
              "      <td>0</td>\n",
              "      <td>0</td>\n",
              "      <td>0</td>\n",
              "      <td>0</td>\n",
              "      <td>0</td>\n",
              "      <td>0</td>\n",
              "      <td>0</td>\n",
              "    </tr>\n",
              "    <tr>\n",
              "      <th>...</th>\n",
              "      <td>...</td>\n",
              "      <td>...</td>\n",
              "      <td>...</td>\n",
              "      <td>...</td>\n",
              "      <td>...</td>\n",
              "      <td>...</td>\n",
              "      <td>...</td>\n",
              "      <td>...</td>\n",
              "      <td>...</td>\n",
              "      <td>...</td>\n",
              "      <td>...</td>\n",
              "      <td>...</td>\n",
              "      <td>...</td>\n",
              "      <td>...</td>\n",
              "      <td>...</td>\n",
              "      <td>...</td>\n",
              "      <td>...</td>\n",
              "      <td>...</td>\n",
              "      <td>...</td>\n",
              "      <td>...</td>\n",
              "      <td>...</td>\n",
              "    </tr>\n",
              "    <tr>\n",
              "      <th>41995</th>\n",
              "      <td>0</td>\n",
              "      <td>0</td>\n",
              "      <td>0</td>\n",
              "      <td>0</td>\n",
              "      <td>0</td>\n",
              "      <td>0</td>\n",
              "      <td>0</td>\n",
              "      <td>0</td>\n",
              "      <td>0</td>\n",
              "      <td>0</td>\n",
              "      <td>...</td>\n",
              "      <td>0</td>\n",
              "      <td>0</td>\n",
              "      <td>0</td>\n",
              "      <td>0</td>\n",
              "      <td>0</td>\n",
              "      <td>0</td>\n",
              "      <td>0</td>\n",
              "      <td>0</td>\n",
              "      <td>0</td>\n",
              "      <td>0</td>\n",
              "    </tr>\n",
              "    <tr>\n",
              "      <th>41996</th>\n",
              "      <td>1</td>\n",
              "      <td>0</td>\n",
              "      <td>0</td>\n",
              "      <td>0</td>\n",
              "      <td>0</td>\n",
              "      <td>0</td>\n",
              "      <td>0</td>\n",
              "      <td>0</td>\n",
              "      <td>0</td>\n",
              "      <td>0</td>\n",
              "      <td>...</td>\n",
              "      <td>0</td>\n",
              "      <td>0</td>\n",
              "      <td>0</td>\n",
              "      <td>0</td>\n",
              "      <td>0</td>\n",
              "      <td>0</td>\n",
              "      <td>0</td>\n",
              "      <td>0</td>\n",
              "      <td>0</td>\n",
              "      <td>0</td>\n",
              "    </tr>\n",
              "    <tr>\n",
              "      <th>41997</th>\n",
              "      <td>7</td>\n",
              "      <td>0</td>\n",
              "      <td>0</td>\n",
              "      <td>0</td>\n",
              "      <td>0</td>\n",
              "      <td>0</td>\n",
              "      <td>0</td>\n",
              "      <td>0</td>\n",
              "      <td>0</td>\n",
              "      <td>0</td>\n",
              "      <td>...</td>\n",
              "      <td>0</td>\n",
              "      <td>0</td>\n",
              "      <td>0</td>\n",
              "      <td>0</td>\n",
              "      <td>0</td>\n",
              "      <td>0</td>\n",
              "      <td>0</td>\n",
              "      <td>0</td>\n",
              "      <td>0</td>\n",
              "      <td>0</td>\n",
              "    </tr>\n",
              "    <tr>\n",
              "      <th>41998</th>\n",
              "      <td>6</td>\n",
              "      <td>0</td>\n",
              "      <td>0</td>\n",
              "      <td>0</td>\n",
              "      <td>0</td>\n",
              "      <td>0</td>\n",
              "      <td>0</td>\n",
              "      <td>0</td>\n",
              "      <td>0</td>\n",
              "      <td>0</td>\n",
              "      <td>...</td>\n",
              "      <td>0</td>\n",
              "      <td>0</td>\n",
              "      <td>0</td>\n",
              "      <td>0</td>\n",
              "      <td>0</td>\n",
              "      <td>0</td>\n",
              "      <td>0</td>\n",
              "      <td>0</td>\n",
              "      <td>0</td>\n",
              "      <td>0</td>\n",
              "    </tr>\n",
              "    <tr>\n",
              "      <th>41999</th>\n",
              "      <td>9</td>\n",
              "      <td>0</td>\n",
              "      <td>0</td>\n",
              "      <td>0</td>\n",
              "      <td>0</td>\n",
              "      <td>0</td>\n",
              "      <td>0</td>\n",
              "      <td>0</td>\n",
              "      <td>0</td>\n",
              "      <td>0</td>\n",
              "      <td>...</td>\n",
              "      <td>0</td>\n",
              "      <td>0</td>\n",
              "      <td>0</td>\n",
              "      <td>0</td>\n",
              "      <td>0</td>\n",
              "      <td>0</td>\n",
              "      <td>0</td>\n",
              "      <td>0</td>\n",
              "      <td>0</td>\n",
              "      <td>0</td>\n",
              "    </tr>\n",
              "  </tbody>\n",
              "</table>\n",
              "<p>42000 rows × 785 columns</p>\n",
              "</div>\n",
              "      <button class=\"colab-df-convert\" onclick=\"convertToInteractive('df-adce0a10-1b47-440a-9302-b5fb9c469b3e')\"\n",
              "              title=\"Convert this dataframe to an interactive table.\"\n",
              "              style=\"display:none;\">\n",
              "        \n",
              "  <svg xmlns=\"http://www.w3.org/2000/svg\" height=\"24px\"viewBox=\"0 0 24 24\"\n",
              "       width=\"24px\">\n",
              "    <path d=\"M0 0h24v24H0V0z\" fill=\"none\"/>\n",
              "    <path d=\"M18.56 5.44l.94 2.06.94-2.06 2.06-.94-2.06-.94-.94-2.06-.94 2.06-2.06.94zm-11 1L8.5 8.5l.94-2.06 2.06-.94-2.06-.94L8.5 2.5l-.94 2.06-2.06.94zm10 10l.94 2.06.94-2.06 2.06-.94-2.06-.94-.94-2.06-.94 2.06-2.06.94z\"/><path d=\"M17.41 7.96l-1.37-1.37c-.4-.4-.92-.59-1.43-.59-.52 0-1.04.2-1.43.59L10.3 9.45l-7.72 7.72c-.78.78-.78 2.05 0 2.83L4 21.41c.39.39.9.59 1.41.59.51 0 1.02-.2 1.41-.59l7.78-7.78 2.81-2.81c.8-.78.8-2.07 0-2.86zM5.41 20L4 18.59l7.72-7.72 1.47 1.35L5.41 20z\"/>\n",
              "  </svg>\n",
              "      </button>\n",
              "      \n",
              "  <style>\n",
              "    .colab-df-container {\n",
              "      display:flex;\n",
              "      flex-wrap:wrap;\n",
              "      gap: 12px;\n",
              "    }\n",
              "\n",
              "    .colab-df-convert {\n",
              "      background-color: #E8F0FE;\n",
              "      border: none;\n",
              "      border-radius: 50%;\n",
              "      cursor: pointer;\n",
              "      display: none;\n",
              "      fill: #1967D2;\n",
              "      height: 32px;\n",
              "      padding: 0 0 0 0;\n",
              "      width: 32px;\n",
              "    }\n",
              "\n",
              "    .colab-df-convert:hover {\n",
              "      background-color: #E2EBFA;\n",
              "      box-shadow: 0px 1px 2px rgba(60, 64, 67, 0.3), 0px 1px 3px 1px rgba(60, 64, 67, 0.15);\n",
              "      fill: #174EA6;\n",
              "    }\n",
              "\n",
              "    [theme=dark] .colab-df-convert {\n",
              "      background-color: #3B4455;\n",
              "      fill: #D2E3FC;\n",
              "    }\n",
              "\n",
              "    [theme=dark] .colab-df-convert:hover {\n",
              "      background-color: #434B5C;\n",
              "      box-shadow: 0px 1px 3px 1px rgba(0, 0, 0, 0.15);\n",
              "      filter: drop-shadow(0px 1px 2px rgba(0, 0, 0, 0.3));\n",
              "      fill: #FFFFFF;\n",
              "    }\n",
              "  </style>\n",
              "\n",
              "      <script>\n",
              "        const buttonEl =\n",
              "          document.querySelector('#df-adce0a10-1b47-440a-9302-b5fb9c469b3e button.colab-df-convert');\n",
              "        buttonEl.style.display =\n",
              "          google.colab.kernel.accessAllowed ? 'block' : 'none';\n",
              "\n",
              "        async function convertToInteractive(key) {\n",
              "          const element = document.querySelector('#df-adce0a10-1b47-440a-9302-b5fb9c469b3e');\n",
              "          const dataTable =\n",
              "            await google.colab.kernel.invokeFunction('convertToInteractive',\n",
              "                                                     [key], {});\n",
              "          if (!dataTable) return;\n",
              "\n",
              "          const docLinkHtml = 'Like what you see? Visit the ' +\n",
              "            '<a target=\"_blank\" href=https://colab.research.google.com/notebooks/data_table.ipynb>data table notebook</a>'\n",
              "            + ' to learn more about interactive tables.';\n",
              "          element.innerHTML = '';\n",
              "          dataTable['output_type'] = 'display_data';\n",
              "          await google.colab.output.renderOutput(dataTable, element);\n",
              "          const docLink = document.createElement('div');\n",
              "          docLink.innerHTML = docLinkHtml;\n",
              "          element.appendChild(docLink);\n",
              "        }\n",
              "      </script>\n",
              "    </div>\n",
              "  </div>\n",
              "  "
            ],
            "text/plain": [
              "       label  pixel0  pixel1  pixel2  pixel3  pixel4  pixel5  pixel6  pixel7  \\\n",
              "0          1       0       0       0       0       0       0       0       0   \n",
              "1          0       0       0       0       0       0       0       0       0   \n",
              "2          1       0       0       0       0       0       0       0       0   \n",
              "3          4       0       0       0       0       0       0       0       0   \n",
              "4          0       0       0       0       0       0       0       0       0   \n",
              "...      ...     ...     ...     ...     ...     ...     ...     ...     ...   \n",
              "41995      0       0       0       0       0       0       0       0       0   \n",
              "41996      1       0       0       0       0       0       0       0       0   \n",
              "41997      7       0       0       0       0       0       0       0       0   \n",
              "41998      6       0       0       0       0       0       0       0       0   \n",
              "41999      9       0       0       0       0       0       0       0       0   \n",
              "\n",
              "       pixel8  ...  pixel774  pixel775  pixel776  pixel777  pixel778  \\\n",
              "0           0  ...         0         0         0         0         0   \n",
              "1           0  ...         0         0         0         0         0   \n",
              "2           0  ...         0         0         0         0         0   \n",
              "3           0  ...         0         0         0         0         0   \n",
              "4           0  ...         0         0         0         0         0   \n",
              "...       ...  ...       ...       ...       ...       ...       ...   \n",
              "41995       0  ...         0         0         0         0         0   \n",
              "41996       0  ...         0         0         0         0         0   \n",
              "41997       0  ...         0         0         0         0         0   \n",
              "41998       0  ...         0         0         0         0         0   \n",
              "41999       0  ...         0         0         0         0         0   \n",
              "\n",
              "       pixel779  pixel780  pixel781  pixel782  pixel783  \n",
              "0             0         0         0         0         0  \n",
              "1             0         0         0         0         0  \n",
              "2             0         0         0         0         0  \n",
              "3             0         0         0         0         0  \n",
              "4             0         0         0         0         0  \n",
              "...         ...       ...       ...       ...       ...  \n",
              "41995         0         0         0         0         0  \n",
              "41996         0         0         0         0         0  \n",
              "41997         0         0         0         0         0  \n",
              "41998         0         0         0         0         0  \n",
              "41999         0         0         0         0         0  \n",
              "\n",
              "[42000 rows x 785 columns]"
            ]
          },
          "metadata": {},
          "execution_count": 7
        }
      ],
      "source": [
        "mnist_full = pd.read_csv('/train.csv')\n",
        "mnist_test = pd.read_csv('/test.csv')\n",
        "mnist_full"
      ]
    },
    {
      "cell_type": "code",
      "execution_count": 8,
      "id": "a0ad907e",
      "metadata": {
        "colab": {
          "base_uri": "https://localhost:8080/"
        },
        "id": "a0ad907e",
        "outputId": "087ede5b-8a88-4c3e-ee8d-cfa0025c9cd9"
      },
      "outputs": [
        {
          "output_type": "execute_result",
          "data": {
            "text/plain": [
              "1    4684\n",
              "7    4401\n",
              "3    4351\n",
              "9    4188\n",
              "2    4177\n",
              "6    4137\n",
              "0    4132\n",
              "4    4072\n",
              "8    4063\n",
              "5    3795\n",
              "Name: label, dtype: int64"
            ]
          },
          "metadata": {},
          "execution_count": 8
        }
      ],
      "source": [
        "mnist_full['label'].value_counts()"
      ]
    },
    {
      "cell_type": "code",
      "execution_count": 9,
      "id": "d0cdd417",
      "metadata": {
        "colab": {
          "base_uri": "https://localhost:8080/"
        },
        "id": "d0cdd417",
        "outputId": "d0b255ef-f5f3-49a9-db1c-7b31f0a92aeb"
      },
      "outputs": [
        {
          "output_type": "execute_result",
          "data": {
            "text/plain": [
              "array([1, 0, 1, ..., 7, 6, 9])"
            ]
          },
          "metadata": {},
          "execution_count": 9
        }
      ],
      "source": [
        "y = mnist_full['label'].to_numpy()\n",
        "y"
      ]
    },
    {
      "cell_type": "code",
      "execution_count": 10,
      "id": "a6cb3f3b",
      "metadata": {
        "colab": {
          "base_uri": "https://localhost:8080/"
        },
        "id": "a6cb3f3b",
        "outputId": "06ef81c8-b5fc-4116-c682-f01540d510f6"
      },
      "outputs": [
        {
          "output_type": "execute_result",
          "data": {
            "text/plain": [
              "(42000, 28, 28, 1)"
            ]
          },
          "metadata": {},
          "execution_count": 10
        }
      ],
      "source": [
        "X = mnist_full.drop(columns='label').to_numpy().reshape(-1, 28, 28, 1)\n",
        "X.shape"
      ]
    },
    {
      "cell_type": "markdown",
      "id": "2575a83d",
      "metadata": {
        "id": "2575a83d"
      },
      "source": [
        "### Split Data"
      ]
    },
    {
      "cell_type": "code",
      "execution_count": 11,
      "id": "821426e8",
      "metadata": {
        "id": "821426e8"
      },
      "outputs": [],
      "source": [
        "from sklearn.model_selection import train_test_split"
      ]
    },
    {
      "cell_type": "code",
      "execution_count": 12,
      "id": "5cea5bfb",
      "metadata": {
        "id": "5cea5bfb"
      },
      "outputs": [],
      "source": [
        "X_train, X_val, y_train, y_val = train_test_split(X, y, test_size=0.1)"
      ]
    },
    {
      "cell_type": "code",
      "execution_count": 13,
      "id": "87df3985",
      "metadata": {
        "colab": {
          "base_uri": "https://localhost:8080/"
        },
        "id": "87df3985",
        "outputId": "d7630aca-6655-4cbe-a851-de7890a66c58"
      },
      "outputs": [
        {
          "output_type": "execute_result",
          "data": {
            "text/plain": [
              "(37800, 28, 28, 1)"
            ]
          },
          "metadata": {},
          "execution_count": 13
        }
      ],
      "source": [
        "X_train.shape"
      ]
    },
    {
      "cell_type": "markdown",
      "id": "10f29551",
      "metadata": {
        "id": "10f29551"
      },
      "source": [
        "## Define Build Model Function"
      ]
    },
    {
      "cell_type": "code",
      "execution_count": 14,
      "id": "9823b638",
      "metadata": {
        "id": "9823b638"
      },
      "outputs": [],
      "source": [
        "import tensorflow as tf\n",
        "from tensorflow.keras import *"
      ]
    },
    {
      "cell_type": "code",
      "execution_count": 15,
      "id": "f2919b27",
      "metadata": {
        "id": "f2919b27"
      },
      "outputs": [],
      "source": [
        "def build_cnn_model(conv_layers, dense_layers, optimizer='adam', lr=0.001, dropout=0, with_batch_norm=False):\n",
        "    model = Sequential([layers.Input(shape=(28, 28, 1))])\n",
        "    for layer in conv_layers:\n",
        "        filters, kernel_size = layer\n",
        "        model.add(layers.Conv2D(filters, kernel_size, activation='relu'))\n",
        "        model.add(layers.MaxPooling2D())\n",
        "        if with_batch_norm:\n",
        "            model.add(layers.BatchNormalization())\n",
        "    model.add(layers.Flatten())\n",
        "    for units in dense_layers:\n",
        "        model.add(layers.Dense(units, activation='relu'))\n",
        "        if dropout > 0:\n",
        "            model.add(layers.Dropout(dropout))\n",
        "    model.add(layers.Dense(10, activation='softmax'))\n",
        "    \n",
        "    select = {'adam': optimizers.Adam, 'sgd': optimizers.SGD, 'rmsprop': optimizers.RMSprop}\n",
        "    model.compile(optimizer=select[optimizer](lr), loss='sparse_categorical_crossentropy', metrics=['acc'])\n",
        "    return model"
      ]
    },
    {
      "cell_type": "markdown",
      "id": "3acfbd53",
      "metadata": {
        "id": "3acfbd53"
      },
      "source": [
        "## Define Parameters Search Space"
      ]
    },
    {
      "cell_type": "code",
      "execution_count": 17,
      "id": "998c29a3",
      "metadata": {
        "colab": {
          "base_uri": "https://localhost:8080/"
        },
        "id": "998c29a3",
        "outputId": "1c1efeb9-c535-450e-cd74-80d1b3172045"
      },
      "outputs": [
        {
          "output_type": "execute_result",
          "data": {
            "text/plain": [
              "10368"
            ]
          },
          "metadata": {},
          "execution_count": 17
        }
      ],
      "source": [
        "conv_blocks = [\n",
        "    [(32, 4)],\n",
        "    [(32, 7)],\n",
        "    [(64, 4)],\n",
        "    [(64, 7)],\n",
        "    [(32, 4), (64, 4)], \n",
        "    [(32, 7), (64, 4)], \n",
        "    [(64, 4), (128, 4)], \n",
        "    [(64, 7), (128, 4)],\n",
        "    [(32, 4), (64, 4), (128, 2)],\n",
        "    [(64, 4), (128, 4), (256, 2)],\n",
        "    [(32, 7), (64, 4), (128, 2)], \n",
        "    [(64, 7), (128, 4), (256, 2)]\n",
        "]\n",
        "dense_blocks = [\n",
        "    [1024, 256, 64],\n",
        "    [1024, 256, 32],\n",
        "    [512, 256, 64],\n",
        "    [512, 256, 32],\n",
        "    [512, 128, 64],\n",
        "    [512, 128, 32],\n",
        "    [1024, 256],\n",
        "    [1024, 128],\n",
        "    [512, 64],\n",
        "    [512, 32],\n",
        "    [256, 64],\n",
        "    [256, 32],\n",
        "]\n",
        "dropouts = [0, 0.15, 0.3]\n",
        "optimisers = ['adam', 'rmsprop', 'sgd']\n",
        "learning_rates = [0.003, 0.009, 0.03, 0.09]\n",
        "\n",
        "ALL_PARAMS = []\n",
        "BEST_ACCURACY = 0.0\n",
        "BEST_PARAMS = {}\n",
        "LAST_STATE = 0\n",
        "for optimiser in optimisers:\n",
        "    for lr in learning_rates:\n",
        "        for conv in conv_blocks:\n",
        "            for with_bn in [True, False]:\n",
        "                for dense in dense_blocks:\n",
        "                    for drop in dropouts:\n",
        "                        ALL_PARAMS.append((conv, dense, optimiser, lr, drop, with_bn))\n",
        "len(ALL_PARAMS)"
      ]
    },
    {
      "cell_type": "markdown",
      "id": "aa367113",
      "metadata": {
        "id": "aa367113"
      },
      "source": [
        "## Define Training and Evaluation Function"
      ]
    },
    {
      "cell_type": "code",
      "execution_count": 18,
      "id": "4adf9108",
      "metadata": {
        "id": "4adf9108"
      },
      "outputs": [],
      "source": [
        "EPOCHS = 20\n",
        "BATCH_SIZE = 100"
      ]
    },
    {
      "cell_type": "code",
      "execution_count": 19,
      "id": "21eab15a",
      "metadata": {
        "id": "21eab15a"
      },
      "outputs": [],
      "source": [
        "def train_and_evaluate(model):\n",
        "    early_stop = callbacks.EarlyStopping(monitor='val_acc', patience=3, restore_best_weights=True)\n",
        "    model.fit(X_train, y_train, \n",
        "              epochs=EPOCHS, \n",
        "              batch_size=BATCH_SIZE, \n",
        "              validation_data=(X_val, y_val), \n",
        "              validation_batch_size=BATCH_SIZE, \n",
        "              callbacks=[early_stop],\n",
        "              verbose=0)\n",
        "    return model.evaluate(X_val, y_val, batch_size=BATCH_SIZE, verbose=0)[1]"
      ]
    },
    {
      "cell_type": "markdown",
      "id": "67bbfd53",
      "metadata": {
        "id": "67bbfd53"
      },
      "source": [
        "## Perform Grid Search"
      ]
    },
    {
      "cell_type": "code",
      "source": [
        "for params in ALL_PARAMS[LAST_STATE:]:\n",
        "    conv, dense, optimiser, lr, drop, with_bn = params\n",
        "    try:\n",
        "        model = build_cnn_model(conv, dense, optimiser, lr, drop, with_bn)\n",
        "        acc = train_and_evaluate(model)\n",
        "        if acc > BEST_ACCURACY:\n",
        "            BEST_PARAMS = {'OPTIMIZER': optimiser, 'LEARNING_RATE': lr,'CONV' : conv, \n",
        "                        'BATCH_NORM': with_bn, 'DENSE': dense, 'DROPOUT': drop}\n",
        "            BEST_ACCURACY = acc\n",
        "        \n",
        "        m = LAST_STATE + 1\n",
        "        print(f'\\nMODEL {m}: ACCURACY: {acc:.5f}\\n\\tOPTIMIZER: {optimiser}(learning_rate={lr}) \\\n",
        "                \\n\\tCONV : {conv}\\tBATCH_NORM: {with_bn}\\n\\tDENSE: {dense}\\tDROPOUT: {drop}')\n",
        "    except ValueError:\n",
        "        print(f'\\nMODEL {m}: NON-FEASIBLE')\n",
        "    LAST_STATE += 1                    "
      ],
      "metadata": {
        "id": "D8dkbIrDOZCe",
        "outputId": "cf036b95-6f38-44b5-c3d1-7530ff6f9bfb",
        "colab": {
          "base_uri": "https://localhost:8080/",
          "height": 1000
        }
      },
      "id": "D8dkbIrDOZCe",
      "execution_count": 25,
      "outputs": [
        {
          "output_type": "stream",
          "name": "stdout",
          "text": [
            "MODEL11: ACCURACY: 0.98095\n",
            "\tOPTIMIZER: adam(learning_rate=0.003)                 \n",
            "\tCONV : [(32, 4)]\tBATCH_NORM: True\n",
            "\tDENSE: [512, 256, 32]\tDROPOUT: 0.15\n",
            "MODEL12: ACCURACY: 0.98048\n",
            "\tOPTIMIZER: adam(learning_rate=0.003)                 \n",
            "\tCONV : [(32, 4)]\tBATCH_NORM: True\n",
            "\tDENSE: [512, 256, 32]\tDROPOUT: 0.3\n",
            "MODEL13: ACCURACY: 0.98214\n",
            "\tOPTIMIZER: adam(learning_rate=0.003)                 \n",
            "\tCONV : [(32, 4)]\tBATCH_NORM: True\n",
            "\tDENSE: [512, 128, 64]\tDROPOUT: 0\n",
            "MODEL14: ACCURACY: 0.98048\n",
            "\tOPTIMIZER: adam(learning_rate=0.003)                 \n",
            "\tCONV : [(32, 4)]\tBATCH_NORM: True\n",
            "\tDENSE: [512, 128, 64]\tDROPOUT: 0.15\n",
            "MODEL15: ACCURACY: 0.98000\n",
            "\tOPTIMIZER: adam(learning_rate=0.003)                 \n",
            "\tCONV : [(32, 4)]\tBATCH_NORM: True\n",
            "\tDENSE: [512, 128, 64]\tDROPOUT: 0.3\n",
            "MODEL16: ACCURACY: 0.98262\n",
            "\tOPTIMIZER: adam(learning_rate=0.003)                 \n",
            "\tCONV : [(32, 4)]\tBATCH_NORM: True\n",
            "\tDENSE: [512, 128, 32]\tDROPOUT: 0\n",
            "MODEL17: ACCURACY: 0.98357\n",
            "\tOPTIMIZER: adam(learning_rate=0.003)                 \n",
            "\tCONV : [(32, 4)]\tBATCH_NORM: True\n",
            "\tDENSE: [512, 128, 32]\tDROPOUT: 0.15\n",
            "MODEL18: ACCURACY: 0.98071\n",
            "\tOPTIMIZER: adam(learning_rate=0.003)                 \n",
            "\tCONV : [(32, 4)]\tBATCH_NORM: True\n",
            "\tDENSE: [512, 128, 32]\tDROPOUT: 0.3\n",
            "MODEL19: ACCURACY: 0.97452\n",
            "\tOPTIMIZER: adam(learning_rate=0.003)                 \n",
            "\tCONV : [(32, 4)]\tBATCH_NORM: True\n",
            "\tDENSE: [1024, 256]\tDROPOUT: 0\n",
            "MODEL20: ACCURACY: 0.98238\n",
            "\tOPTIMIZER: adam(learning_rate=0.003)                 \n",
            "\tCONV : [(32, 4)]\tBATCH_NORM: True\n",
            "\tDENSE: [1024, 256]\tDROPOUT: 0.15\n",
            "MODEL21: ACCURACY: 0.98333\n",
            "\tOPTIMIZER: adam(learning_rate=0.003)                 \n",
            "\tCONV : [(32, 4)]\tBATCH_NORM: True\n",
            "\tDENSE: [1024, 256]\tDROPOUT: 0.3\n",
            "MODEL22: ACCURACY: 0.97952\n",
            "\tOPTIMIZER: adam(learning_rate=0.003)                 \n",
            "\tCONV : [(32, 4)]\tBATCH_NORM: True\n",
            "\tDENSE: [1024, 128]\tDROPOUT: 0\n",
            "MODEL23: ACCURACY: 0.98167\n",
            "\tOPTIMIZER: adam(learning_rate=0.003)                 \n",
            "\tCONV : [(32, 4)]\tBATCH_NORM: True\n",
            "\tDENSE: [1024, 128]\tDROPOUT: 0.15\n",
            "MODEL24: ACCURACY: 0.98429\n",
            "\tOPTIMIZER: adam(learning_rate=0.003)                 \n",
            "\tCONV : [(32, 4)]\tBATCH_NORM: True\n",
            "\tDENSE: [1024, 128]\tDROPOUT: 0.3\n",
            "MODEL25: ACCURACY: 0.98214\n",
            "\tOPTIMIZER: adam(learning_rate=0.003)                 \n",
            "\tCONV : [(32, 4)]\tBATCH_NORM: True\n",
            "\tDENSE: [512, 64]\tDROPOUT: 0\n",
            "MODEL26: ACCURACY: 0.98190\n",
            "\tOPTIMIZER: adam(learning_rate=0.003)                 \n",
            "\tCONV : [(32, 4)]\tBATCH_NORM: True\n",
            "\tDENSE: [512, 64]\tDROPOUT: 0.15\n",
            "MODEL27: ACCURACY: 0.98190\n",
            "\tOPTIMIZER: adam(learning_rate=0.003)                 \n",
            "\tCONV : [(32, 4)]\tBATCH_NORM: True\n",
            "\tDENSE: [512, 64]\tDROPOUT: 0.3\n",
            "MODEL28: ACCURACY: 0.97929\n",
            "\tOPTIMIZER: adam(learning_rate=0.003)                 \n",
            "\tCONV : [(32, 4)]\tBATCH_NORM: True\n",
            "\tDENSE: [512, 32]\tDROPOUT: 0\n",
            "MODEL29: ACCURACY: 0.98000\n",
            "\tOPTIMIZER: adam(learning_rate=0.003)                 \n",
            "\tCONV : [(32, 4)]\tBATCH_NORM: True\n",
            "\tDENSE: [512, 32]\tDROPOUT: 0.15\n",
            "MODEL30: ACCURACY: 0.98167\n",
            "\tOPTIMIZER: adam(learning_rate=0.003)                 \n",
            "\tCONV : [(32, 4)]\tBATCH_NORM: True\n",
            "\tDENSE: [512, 32]\tDROPOUT: 0.3\n",
            "MODEL31: ACCURACY: 0.97857\n",
            "\tOPTIMIZER: adam(learning_rate=0.003)                 \n",
            "\tCONV : [(32, 4)]\tBATCH_NORM: True\n",
            "\tDENSE: [256, 64]\tDROPOUT: 0\n",
            "MODEL32: ACCURACY: 0.98238\n",
            "\tOPTIMIZER: adam(learning_rate=0.003)                 \n",
            "\tCONV : [(32, 4)]\tBATCH_NORM: True\n",
            "\tDENSE: [256, 64]\tDROPOUT: 0.15\n",
            "MODEL33: ACCURACY: 0.98452\n",
            "\tOPTIMIZER: adam(learning_rate=0.003)                 \n",
            "\tCONV : [(32, 4)]\tBATCH_NORM: True\n",
            "\tDENSE: [256, 64]\tDROPOUT: 0.3\n",
            "MODEL34: ACCURACY: 0.97976\n",
            "\tOPTIMIZER: adam(learning_rate=0.003)                 \n",
            "\tCONV : [(32, 4)]\tBATCH_NORM: True\n",
            "\tDENSE: [256, 32]\tDROPOUT: 0\n",
            "MODEL35: ACCURACY: 0.98048\n",
            "\tOPTIMIZER: adam(learning_rate=0.003)                 \n",
            "\tCONV : [(32, 4)]\tBATCH_NORM: True\n",
            "\tDENSE: [256, 32]\tDROPOUT: 0.15\n",
            "MODEL36: ACCURACY: 0.97905\n",
            "\tOPTIMIZER: adam(learning_rate=0.003)                 \n",
            "\tCONV : [(32, 4)]\tBATCH_NORM: True\n",
            "\tDENSE: [256, 32]\tDROPOUT: 0.3\n",
            "MODEL37: ACCURACY: 0.97571\n",
            "\tOPTIMIZER: adam(learning_rate=0.003)                 \n",
            "\tCONV : [(32, 4)]\tBATCH_NORM: False\n",
            "\tDENSE: [1024, 256, 64]\tDROPOUT: 0\n",
            "MODEL38: ACCURACY: 0.97429\n",
            "\tOPTIMIZER: adam(learning_rate=0.003)                 \n",
            "\tCONV : [(32, 4)]\tBATCH_NORM: False\n",
            "\tDENSE: [1024, 256, 64]\tDROPOUT: 0.15\n",
            "MODEL39: ACCURACY: 0.97643\n",
            "\tOPTIMIZER: adam(learning_rate=0.003)                 \n",
            "\tCONV : [(32, 4)]\tBATCH_NORM: False\n",
            "\tDENSE: [1024, 256, 64]\tDROPOUT: 0.3\n",
            "MODEL40: ACCURACY: 0.11024\n",
            "\tOPTIMIZER: adam(learning_rate=0.003)                 \n",
            "\tCONV : [(32, 4)]\tBATCH_NORM: False\n",
            "\tDENSE: [1024, 256, 32]\tDROPOUT: 0\n",
            "MODEL41: ACCURACY: 0.11024\n",
            "\tOPTIMIZER: adam(learning_rate=0.003)                 \n",
            "\tCONV : [(32, 4)]\tBATCH_NORM: False\n",
            "\tDENSE: [1024, 256, 32]\tDROPOUT: 0.15\n",
            "MODEL42: ACCURACY: 0.11024\n",
            "\tOPTIMIZER: adam(learning_rate=0.003)                 \n",
            "\tCONV : [(32, 4)]\tBATCH_NORM: False\n",
            "\tDENSE: [1024, 256, 32]\tDROPOUT: 0.3\n",
            "MODEL43: ACCURACY: 0.98119\n",
            "\tOPTIMIZER: adam(learning_rate=0.003)                 \n",
            "\tCONV : [(32, 4)]\tBATCH_NORM: False\n",
            "\tDENSE: [512, 256, 64]\tDROPOUT: 0\n",
            "MODEL44: ACCURACY: 0.97714\n",
            "\tOPTIMIZER: adam(learning_rate=0.003)                 \n",
            "\tCONV : [(32, 4)]\tBATCH_NORM: False\n",
            "\tDENSE: [512, 256, 64]\tDROPOUT: 0.15\n",
            "MODEL45: ACCURACY: 0.97643\n",
            "\tOPTIMIZER: adam(learning_rate=0.003)                 \n",
            "\tCONV : [(32, 4)]\tBATCH_NORM: False\n",
            "\tDENSE: [512, 256, 64]\tDROPOUT: 0.3\n",
            "MODEL46: ACCURACY: 0.97476\n",
            "\tOPTIMIZER: adam(learning_rate=0.003)                 \n",
            "\tCONV : [(32, 4)]\tBATCH_NORM: False\n",
            "\tDENSE: [512, 256, 32]\tDROPOUT: 0\n",
            "MODEL47: ACCURACY: 0.11024\n",
            "\tOPTIMIZER: adam(learning_rate=0.003)                 \n",
            "\tCONV : [(32, 4)]\tBATCH_NORM: False\n",
            "\tDENSE: [512, 256, 32]\tDROPOUT: 0.15\n",
            "MODEL48: ACCURACY: 0.11024\n",
            "\tOPTIMIZER: adam(learning_rate=0.003)                 \n",
            "\tCONV : [(32, 4)]\tBATCH_NORM: False\n",
            "\tDENSE: [512, 256, 32]\tDROPOUT: 0.3\n",
            "MODEL49: ACCURACY: 0.97571\n",
            "\tOPTIMIZER: adam(learning_rate=0.003)                 \n",
            "\tCONV : [(32, 4)]\tBATCH_NORM: False\n",
            "\tDENSE: [512, 128, 64]\tDROPOUT: 0\n",
            "MODEL50: ACCURACY: 0.97833\n",
            "\tOPTIMIZER: adam(learning_rate=0.003)                 \n",
            "\tCONV : [(32, 4)]\tBATCH_NORM: False\n",
            "\tDENSE: [512, 128, 64]\tDROPOUT: 0.15\n",
            "MODEL51: ACCURACY: 0.97667\n",
            "\tOPTIMIZER: adam(learning_rate=0.003)                 \n",
            "\tCONV : [(32, 4)]\tBATCH_NORM: False\n",
            "\tDENSE: [512, 128, 64]\tDROPOUT: 0.3\n",
            "MODEL52: ACCURACY: 0.97786\n",
            "\tOPTIMIZER: adam(learning_rate=0.003)                 \n",
            "\tCONV : [(32, 4)]\tBATCH_NORM: False\n",
            "\tDENSE: [512, 128, 32]\tDROPOUT: 0\n",
            "MODEL53: ACCURACY: 0.97500\n",
            "\tOPTIMIZER: adam(learning_rate=0.003)                 \n",
            "\tCONV : [(32, 4)]\tBATCH_NORM: False\n",
            "\tDENSE: [512, 128, 32]\tDROPOUT: 0.15\n",
            "MODEL54: ACCURACY: 0.97595\n",
            "\tOPTIMIZER: adam(learning_rate=0.003)                 \n",
            "\tCONV : [(32, 4)]\tBATCH_NORM: False\n",
            "\tDENSE: [512, 128, 32]\tDROPOUT: 0.3\n",
            "MODEL55: ACCURACY: 0.97286\n",
            "\tOPTIMIZER: adam(learning_rate=0.003)                 \n",
            "\tCONV : [(32, 4)]\tBATCH_NORM: False\n",
            "\tDENSE: [1024, 256]\tDROPOUT: 0\n",
            "MODEL56: ACCURACY: 0.97714\n",
            "\tOPTIMIZER: adam(learning_rate=0.003)                 \n",
            "\tCONV : [(32, 4)]\tBATCH_NORM: False\n",
            "\tDENSE: [1024, 256]\tDROPOUT: 0.15\n",
            "MODEL57: ACCURACY: 0.97762\n",
            "\tOPTIMIZER: adam(learning_rate=0.003)                 \n",
            "\tCONV : [(32, 4)]\tBATCH_NORM: False\n",
            "\tDENSE: [1024, 256]\tDROPOUT: 0.3\n",
            "MODEL58: ACCURACY: 0.97452\n",
            "\tOPTIMIZER: adam(learning_rate=0.003)                 \n",
            "\tCONV : [(32, 4)]\tBATCH_NORM: False\n",
            "\tDENSE: [1024, 128]\tDROPOUT: 0\n",
            "MODEL59: ACCURACY: 0.97595\n",
            "\tOPTIMIZER: adam(learning_rate=0.003)                 \n",
            "\tCONV : [(32, 4)]\tBATCH_NORM: False\n",
            "\tDENSE: [1024, 128]\tDROPOUT: 0.15\n",
            "MODEL60: ACCURACY: 0.97310\n",
            "\tOPTIMIZER: adam(learning_rate=0.003)                 \n",
            "\tCONV : [(32, 4)]\tBATCH_NORM: False\n",
            "\tDENSE: [1024, 128]\tDROPOUT: 0.3\n",
            "MODEL61: ACCURACY: 0.97310\n",
            "\tOPTIMIZER: adam(learning_rate=0.003)                 \n",
            "\tCONV : [(32, 4)]\tBATCH_NORM: False\n",
            "\tDENSE: [512, 64]\tDROPOUT: 0\n",
            "MODEL62: ACCURACY: 0.97548\n",
            "\tOPTIMIZER: adam(learning_rate=0.003)                 \n",
            "\tCONV : [(32, 4)]\tBATCH_NORM: False\n",
            "\tDENSE: [512, 64]\tDROPOUT: 0.15\n",
            "MODEL63: ACCURACY: 0.97524\n",
            "\tOPTIMIZER: adam(learning_rate=0.003)                 \n",
            "\tCONV : [(32, 4)]\tBATCH_NORM: False\n",
            "\tDENSE: [512, 64]\tDROPOUT: 0.3\n",
            "MODEL64: ACCURACY: 0.97643\n",
            "\tOPTIMIZER: adam(learning_rate=0.003)                 \n",
            "\tCONV : [(32, 4)]\tBATCH_NORM: False\n",
            "\tDENSE: [512, 32]\tDROPOUT: 0\n",
            "MODEL65: ACCURACY: 0.97786\n",
            "\tOPTIMIZER: adam(learning_rate=0.003)                 \n",
            "\tCONV : [(32, 4)]\tBATCH_NORM: False\n",
            "\tDENSE: [512, 32]\tDROPOUT: 0.15\n",
            "MODEL66: ACCURACY: 0.11024\n",
            "\tOPTIMIZER: adam(learning_rate=0.003)                 \n",
            "\tCONV : [(32, 4)]\tBATCH_NORM: False\n",
            "\tDENSE: [512, 32]\tDROPOUT: 0.3\n",
            "MODEL67: ACCURACY: 0.97381\n",
            "\tOPTIMIZER: adam(learning_rate=0.003)                 \n",
            "\tCONV : [(32, 4)]\tBATCH_NORM: False\n",
            "\tDENSE: [256, 64]\tDROPOUT: 0\n",
            "MODEL68: ACCURACY: 0.97429\n",
            "\tOPTIMIZER: adam(learning_rate=0.003)                 \n",
            "\tCONV : [(32, 4)]\tBATCH_NORM: False\n",
            "\tDENSE: [256, 64]\tDROPOUT: 0.15\n",
            "MODEL69: ACCURACY: 0.97738\n",
            "\tOPTIMIZER: adam(learning_rate=0.003)                 \n",
            "\tCONV : [(32, 4)]\tBATCH_NORM: False\n",
            "\tDENSE: [256, 64]\tDROPOUT: 0.3\n",
            "MODEL70: ACCURACY: 0.97976\n",
            "\tOPTIMIZER: adam(learning_rate=0.003)                 \n",
            "\tCONV : [(32, 4)]\tBATCH_NORM: False\n",
            "\tDENSE: [256, 32]\tDROPOUT: 0\n",
            "MODEL71: ACCURACY: 0.97357\n",
            "\tOPTIMIZER: adam(learning_rate=0.003)                 \n",
            "\tCONV : [(32, 4)]\tBATCH_NORM: False\n",
            "\tDENSE: [256, 32]\tDROPOUT: 0.15\n",
            "MODEL72: ACCURACY: 0.97381\n",
            "\tOPTIMIZER: adam(learning_rate=0.003)                 \n",
            "\tCONV : [(32, 4)]\tBATCH_NORM: False\n",
            "\tDENSE: [256, 32]\tDROPOUT: 0.3\n",
            "MODEL73: ACCURACY: 0.98119\n",
            "\tOPTIMIZER: adam(learning_rate=0.003)                 \n",
            "\tCONV : [(32, 7)]\tBATCH_NORM: True\n",
            "\tDENSE: [1024, 256, 64]\tDROPOUT: 0\n",
            "MODEL74: ACCURACY: 0.98286\n",
            "\tOPTIMIZER: adam(learning_rate=0.003)                 \n",
            "\tCONV : [(32, 7)]\tBATCH_NORM: True\n",
            "\tDENSE: [1024, 256, 64]\tDROPOUT: 0.15\n",
            "MODEL75: ACCURACY: 0.98214\n",
            "\tOPTIMIZER: adam(learning_rate=0.003)                 \n",
            "\tCONV : [(32, 7)]\tBATCH_NORM: True\n",
            "\tDENSE: [1024, 256, 64]\tDROPOUT: 0.3\n",
            "MODEL76: ACCURACY: 0.98310\n",
            "\tOPTIMIZER: adam(learning_rate=0.003)                 \n",
            "\tCONV : [(32, 7)]\tBATCH_NORM: True\n",
            "\tDENSE: [1024, 256, 32]\tDROPOUT: 0\n",
            "MODEL77: ACCURACY: 0.98595\n",
            "\tOPTIMIZER: adam(learning_rate=0.003)                 \n",
            "\tCONV : [(32, 7)]\tBATCH_NORM: True\n",
            "\tDENSE: [1024, 256, 32]\tDROPOUT: 0.15\n",
            "MODEL78: ACCURACY: 0.98024\n",
            "\tOPTIMIZER: adam(learning_rate=0.003)                 \n",
            "\tCONV : [(32, 7)]\tBATCH_NORM: True\n",
            "\tDENSE: [1024, 256, 32]\tDROPOUT: 0.3\n",
            "MODEL79: ACCURACY: 0.98310\n",
            "\tOPTIMIZER: adam(learning_rate=0.003)                 \n",
            "\tCONV : [(32, 7)]\tBATCH_NORM: True\n",
            "\tDENSE: [512, 256, 64]\tDROPOUT: 0\n",
            "MODEL80: ACCURACY: 0.98381\n",
            "\tOPTIMIZER: adam(learning_rate=0.003)                 \n",
            "\tCONV : [(32, 7)]\tBATCH_NORM: True\n",
            "\tDENSE: [512, 256, 64]\tDROPOUT: 0.15\n",
            "MODEL81: ACCURACY: 0.98500\n",
            "\tOPTIMIZER: adam(learning_rate=0.003)                 \n",
            "\tCONV : [(32, 7)]\tBATCH_NORM: True\n",
            "\tDENSE: [512, 256, 64]\tDROPOUT: 0.3\n",
            "MODEL82: ACCURACY: 0.98167\n",
            "\tOPTIMIZER: adam(learning_rate=0.003)                 \n",
            "\tCONV : [(32, 7)]\tBATCH_NORM: True\n",
            "\tDENSE: [512, 256, 32]\tDROPOUT: 0\n",
            "MODEL83: ACCURACY: 0.98262\n",
            "\tOPTIMIZER: adam(learning_rate=0.003)                 \n",
            "\tCONV : [(32, 7)]\tBATCH_NORM: True\n",
            "\tDENSE: [512, 256, 32]\tDROPOUT: 0.15\n",
            "MODEL84: ACCURACY: 0.98595\n",
            "\tOPTIMIZER: adam(learning_rate=0.003)                 \n",
            "\tCONV : [(32, 7)]\tBATCH_NORM: True\n",
            "\tDENSE: [512, 256, 32]\tDROPOUT: 0.3\n",
            "MODEL85: ACCURACY: 0.98000\n",
            "\tOPTIMIZER: adam(learning_rate=0.003)                 \n",
            "\tCONV : [(32, 7)]\tBATCH_NORM: True\n",
            "\tDENSE: [512, 128, 64]\tDROPOUT: 0\n",
            "MODEL86: ACCURACY: 0.98214\n",
            "\tOPTIMIZER: adam(learning_rate=0.003)                 \n",
            "\tCONV : [(32, 7)]\tBATCH_NORM: True\n",
            "\tDENSE: [512, 128, 64]\tDROPOUT: 0.15\n",
            "MODEL87: ACCURACY: 0.98500\n",
            "\tOPTIMIZER: adam(learning_rate=0.003)                 \n",
            "\tCONV : [(32, 7)]\tBATCH_NORM: True\n",
            "\tDENSE: [512, 128, 64]\tDROPOUT: 0.3\n",
            "MODEL88: ACCURACY: 0.98524\n",
            "\tOPTIMIZER: adam(learning_rate=0.003)                 \n",
            "\tCONV : [(32, 7)]\tBATCH_NORM: True\n",
            "\tDENSE: [512, 128, 32]\tDROPOUT: 0\n",
            "MODEL89: ACCURACY: 0.97952\n",
            "\tOPTIMIZER: adam(learning_rate=0.003)                 \n",
            "\tCONV : [(32, 7)]\tBATCH_NORM: True\n",
            "\tDENSE: [512, 128, 32]\tDROPOUT: 0.15\n",
            "MODEL90: ACCURACY: 0.98476\n",
            "\tOPTIMIZER: adam(learning_rate=0.003)                 \n",
            "\tCONV : [(32, 7)]\tBATCH_NORM: True\n",
            "\tDENSE: [512, 128, 32]\tDROPOUT: 0.3\n",
            "MODEL91: ACCURACY: 0.98167\n",
            "\tOPTIMIZER: adam(learning_rate=0.003)                 \n",
            "\tCONV : [(32, 7)]\tBATCH_NORM: True\n",
            "\tDENSE: [1024, 256]\tDROPOUT: 0\n",
            "MODEL92: ACCURACY: 0.98095\n",
            "\tOPTIMIZER: adam(learning_rate=0.003)                 \n",
            "\tCONV : [(32, 7)]\tBATCH_NORM: True\n",
            "\tDENSE: [1024, 256]\tDROPOUT: 0.15\n",
            "MODEL93: ACCURACY: 0.98452\n",
            "\tOPTIMIZER: adam(learning_rate=0.003)                 \n",
            "\tCONV : [(32, 7)]\tBATCH_NORM: True\n",
            "\tDENSE: [1024, 256]\tDROPOUT: 0.3\n",
            "MODEL94: ACCURACY: 0.98000\n",
            "\tOPTIMIZER: adam(learning_rate=0.003)                 \n",
            "\tCONV : [(32, 7)]\tBATCH_NORM: True\n",
            "\tDENSE: [1024, 128]\tDROPOUT: 0\n",
            "MODEL95: ACCURACY: 0.98167\n",
            "\tOPTIMIZER: adam(learning_rate=0.003)                 \n",
            "\tCONV : [(32, 7)]\tBATCH_NORM: True\n",
            "\tDENSE: [1024, 128]\tDROPOUT: 0.15\n",
            "MODEL96: ACCURACY: 0.98333\n",
            "\tOPTIMIZER: adam(learning_rate=0.003)                 \n",
            "\tCONV : [(32, 7)]\tBATCH_NORM: True\n",
            "\tDENSE: [1024, 128]\tDROPOUT: 0.3\n",
            "MODEL97: ACCURACY: 0.98119\n",
            "\tOPTIMIZER: adam(learning_rate=0.003)                 \n",
            "\tCONV : [(32, 7)]\tBATCH_NORM: True\n",
            "\tDENSE: [512, 64]\tDROPOUT: 0\n",
            "MODEL98: ACCURACY: 0.98167\n",
            "\tOPTIMIZER: adam(learning_rate=0.003)                 \n",
            "\tCONV : [(32, 7)]\tBATCH_NORM: True\n",
            "\tDENSE: [512, 64]\tDROPOUT: 0.15\n",
            "MODEL99: ACCURACY: 0.98262\n",
            "\tOPTIMIZER: adam(learning_rate=0.003)                 \n",
            "\tCONV : [(32, 7)]\tBATCH_NORM: True\n",
            "\tDENSE: [512, 64]\tDROPOUT: 0.3\n",
            "MODEL100: ACCURACY: 0.98381\n",
            "\tOPTIMIZER: adam(learning_rate=0.003)                 \n",
            "\tCONV : [(32, 7)]\tBATCH_NORM: True\n",
            "\tDENSE: [512, 32]\tDROPOUT: 0\n",
            "MODEL101: ACCURACY: 0.98429\n",
            "\tOPTIMIZER: adam(learning_rate=0.003)                 \n",
            "\tCONV : [(32, 7)]\tBATCH_NORM: True\n",
            "\tDENSE: [512, 32]\tDROPOUT: 0.15\n",
            "MODEL102: ACCURACY: 0.98286\n",
            "\tOPTIMIZER: adam(learning_rate=0.003)                 \n",
            "\tCONV : [(32, 7)]\tBATCH_NORM: True\n",
            "\tDENSE: [512, 32]\tDROPOUT: 0.3\n",
            "MODEL103: ACCURACY: 0.98143\n",
            "\tOPTIMIZER: adam(learning_rate=0.003)                 \n",
            "\tCONV : [(32, 7)]\tBATCH_NORM: True\n",
            "\tDENSE: [256, 64]\tDROPOUT: 0\n",
            "MODEL104: ACCURACY: 0.98190\n",
            "\tOPTIMIZER: adam(learning_rate=0.003)                 \n",
            "\tCONV : [(32, 7)]\tBATCH_NORM: True\n",
            "\tDENSE: [256, 64]\tDROPOUT: 0.15\n",
            "MODEL105: ACCURACY: 0.98238\n",
            "\tOPTIMIZER: adam(learning_rate=0.003)                 \n",
            "\tCONV : [(32, 7)]\tBATCH_NORM: True\n",
            "\tDENSE: [256, 64]\tDROPOUT: 0.3\n",
            "MODEL106: ACCURACY: 0.98333\n",
            "\tOPTIMIZER: adam(learning_rate=0.003)                 \n",
            "\tCONV : [(32, 7)]\tBATCH_NORM: True\n",
            "\tDENSE: [256, 32]\tDROPOUT: 0\n",
            "MODEL107: ACCURACY: 0.98452\n",
            "\tOPTIMIZER: adam(learning_rate=0.003)                 \n",
            "\tCONV : [(32, 7)]\tBATCH_NORM: True\n",
            "\tDENSE: [256, 32]\tDROPOUT: 0.15\n",
            "MODEL108: ACCURACY: 0.98333\n",
            "\tOPTIMIZER: adam(learning_rate=0.003)                 \n",
            "\tCONV : [(32, 7)]\tBATCH_NORM: True\n",
            "\tDENSE: [256, 32]\tDROPOUT: 0.3\n",
            "MODEL109: ACCURACY: 0.97167\n",
            "\tOPTIMIZER: adam(learning_rate=0.003)                 \n",
            "\tCONV : [(32, 7)]\tBATCH_NORM: False\n",
            "\tDENSE: [1024, 256, 64]\tDROPOUT: 0\n",
            "MODEL110: ACCURACY: 0.97429\n",
            "\tOPTIMIZER: adam(learning_rate=0.003)                 \n",
            "\tCONV : [(32, 7)]\tBATCH_NORM: False\n",
            "\tDENSE: [1024, 256, 64]\tDROPOUT: 0.15\n",
            "MODEL111: ACCURACY: 0.97119\n",
            "\tOPTIMIZER: adam(learning_rate=0.003)                 \n",
            "\tCONV : [(32, 7)]\tBATCH_NORM: False\n",
            "\tDENSE: [1024, 256, 64]\tDROPOUT: 0.3\n",
            "MODEL112: ACCURACY: 0.96905\n",
            "\tOPTIMIZER: adam(learning_rate=0.003)                 \n",
            "\tCONV : [(32, 7)]\tBATCH_NORM: False\n",
            "\tDENSE: [1024, 256, 32]\tDROPOUT: 0\n",
            "MODEL113: ACCURACY: 0.97310\n",
            "\tOPTIMIZER: adam(learning_rate=0.003)                 \n",
            "\tCONV : [(32, 7)]\tBATCH_NORM: False\n",
            "\tDENSE: [1024, 256, 32]\tDROPOUT: 0.15\n",
            "MODEL114: ACCURACY: 0.96929\n",
            "\tOPTIMIZER: adam(learning_rate=0.003)                 \n",
            "\tCONV : [(32, 7)]\tBATCH_NORM: False\n",
            "\tDENSE: [1024, 256, 32]\tDROPOUT: 0.3\n",
            "MODEL115: ACCURACY: 0.96976\n",
            "\tOPTIMIZER: adam(learning_rate=0.003)                 \n",
            "\tCONV : [(32, 7)]\tBATCH_NORM: False\n",
            "\tDENSE: [512, 256, 64]\tDROPOUT: 0\n",
            "MODEL116: ACCURACY: 0.96952\n",
            "\tOPTIMIZER: adam(learning_rate=0.003)                 \n",
            "\tCONV : [(32, 7)]\tBATCH_NORM: False\n",
            "\tDENSE: [512, 256, 64]\tDROPOUT: 0.15\n",
            "MODEL117: ACCURACY: 0.97071\n",
            "\tOPTIMIZER: adam(learning_rate=0.003)                 \n",
            "\tCONV : [(32, 7)]\tBATCH_NORM: False\n",
            "\tDENSE: [512, 256, 64]\tDROPOUT: 0.3\n",
            "MODEL118: ACCURACY: 0.96738\n",
            "\tOPTIMIZER: adam(learning_rate=0.003)                 \n",
            "\tCONV : [(32, 7)]\tBATCH_NORM: False\n",
            "\tDENSE: [512, 256, 32]\tDROPOUT: 0\n",
            "MODEL119: ACCURACY: 0.11024\n",
            "\tOPTIMIZER: adam(learning_rate=0.003)                 \n",
            "\tCONV : [(32, 7)]\tBATCH_NORM: False\n",
            "\tDENSE: [512, 256, 32]\tDROPOUT: 0.15\n",
            "MODEL120: ACCURACY: 0.97071\n",
            "\tOPTIMIZER: adam(learning_rate=0.003)                 \n",
            "\tCONV : [(32, 7)]\tBATCH_NORM: False\n",
            "\tDENSE: [512, 256, 32]\tDROPOUT: 0.3\n",
            "MODEL121: ACCURACY: 0.97238\n",
            "\tOPTIMIZER: adam(learning_rate=0.003)                 \n",
            "\tCONV : [(32, 7)]\tBATCH_NORM: False\n",
            "\tDENSE: [512, 128, 64]\tDROPOUT: 0\n"
          ]
        },
        {
          "output_type": "error",
          "ename": "KeyboardInterrupt",
          "evalue": "ignored",
          "traceback": [
            "\u001b[0;31m---------------------------------------------------------------------------\u001b[0m",
            "\u001b[0;31mKeyboardInterrupt\u001b[0m                         Traceback (most recent call last)",
            "\u001b[0;32m<ipython-input-25-ce7292f4e867>\u001b[0m in \u001b[0;36m<module>\u001b[0;34m()\u001b[0m\n\u001b[1;32m      3\u001b[0m     \u001b[0;32mtry\u001b[0m\u001b[0;34m:\u001b[0m\u001b[0;34m\u001b[0m\u001b[0;34m\u001b[0m\u001b[0m\n\u001b[1;32m      4\u001b[0m         \u001b[0mmodel\u001b[0m \u001b[0;34m=\u001b[0m \u001b[0mbuild_cnn_model\u001b[0m\u001b[0;34m(\u001b[0m\u001b[0mconv\u001b[0m\u001b[0;34m,\u001b[0m \u001b[0mdense\u001b[0m\u001b[0;34m,\u001b[0m \u001b[0moptimiser\u001b[0m\u001b[0;34m,\u001b[0m \u001b[0mlr\u001b[0m\u001b[0;34m,\u001b[0m \u001b[0mdrop\u001b[0m\u001b[0;34m,\u001b[0m \u001b[0mwith_bn\u001b[0m\u001b[0;34m)\u001b[0m\u001b[0;34m\u001b[0m\u001b[0;34m\u001b[0m\u001b[0m\n\u001b[0;32m----> 5\u001b[0;31m         \u001b[0macc\u001b[0m \u001b[0;34m=\u001b[0m \u001b[0mtrain_and_evaluate\u001b[0m\u001b[0;34m(\u001b[0m\u001b[0mmodel\u001b[0m\u001b[0;34m)\u001b[0m\u001b[0;34m\u001b[0m\u001b[0;34m\u001b[0m\u001b[0m\n\u001b[0m\u001b[1;32m      6\u001b[0m         \u001b[0mprint\u001b[0m\u001b[0;34m(\u001b[0m\u001b[0;34mf'MODEL{LAST_STATE + 1}: ACCURACY: {acc:.5f}\\n\\tOPTIMIZER: {optimiser}(learning_rate={lr})                 \\n\\tCONV : {conv}\\tBATCH_NORM: {with_bn}\\n\\tDENSE: {dense}\\tDROPOUT: {drop}'\u001b[0m\u001b[0;34m)\u001b[0m\u001b[0;34m\u001b[0m\u001b[0;34m\u001b[0m\u001b[0m\n\u001b[1;32m      7\u001b[0m         \u001b[0;32mif\u001b[0m \u001b[0macc\u001b[0m \u001b[0;34m>\u001b[0m \u001b[0mBEST_ACCURACY\u001b[0m\u001b[0;34m:\u001b[0m\u001b[0;34m\u001b[0m\u001b[0;34m\u001b[0m\u001b[0m\n",
            "\u001b[0;32m<ipython-input-19-b1a3fda1a6ef>\u001b[0m in \u001b[0;36mtrain_and_evaluate\u001b[0;34m(model)\u001b[0m\n\u001b[1;32m      7\u001b[0m               \u001b[0mvalidation_batch_size\u001b[0m\u001b[0;34m=\u001b[0m\u001b[0mBATCH_SIZE\u001b[0m\u001b[0;34m,\u001b[0m\u001b[0;34m\u001b[0m\u001b[0;34m\u001b[0m\u001b[0m\n\u001b[1;32m      8\u001b[0m               \u001b[0mcallbacks\u001b[0m\u001b[0;34m=\u001b[0m\u001b[0;34m[\u001b[0m\u001b[0mearly_stop\u001b[0m\u001b[0;34m]\u001b[0m\u001b[0;34m,\u001b[0m\u001b[0;34m\u001b[0m\u001b[0;34m\u001b[0m\u001b[0m\n\u001b[0;32m----> 9\u001b[0;31m               verbose=0)\n\u001b[0m\u001b[1;32m     10\u001b[0m     \u001b[0;32mreturn\u001b[0m \u001b[0mmodel\u001b[0m\u001b[0;34m.\u001b[0m\u001b[0mevaluate\u001b[0m\u001b[0;34m(\u001b[0m\u001b[0mX_val\u001b[0m\u001b[0;34m,\u001b[0m \u001b[0my_val\u001b[0m\u001b[0;34m,\u001b[0m \u001b[0mbatch_size\u001b[0m\u001b[0;34m=\u001b[0m\u001b[0mBATCH_SIZE\u001b[0m\u001b[0;34m,\u001b[0m \u001b[0mverbose\u001b[0m\u001b[0;34m=\u001b[0m\u001b[0;36m0\u001b[0m\u001b[0;34m)\u001b[0m\u001b[0;34m[\u001b[0m\u001b[0;36m1\u001b[0m\u001b[0;34m]\u001b[0m\u001b[0;34m\u001b[0m\u001b[0;34m\u001b[0m\u001b[0m\n",
            "\u001b[0;32m/usr/local/lib/python3.7/dist-packages/keras/utils/traceback_utils.py\u001b[0m in \u001b[0;36merror_handler\u001b[0;34m(*args, **kwargs)\u001b[0m\n\u001b[1;32m     62\u001b[0m     \u001b[0mfiltered_tb\u001b[0m \u001b[0;34m=\u001b[0m \u001b[0;32mNone\u001b[0m\u001b[0;34m\u001b[0m\u001b[0;34m\u001b[0m\u001b[0m\n\u001b[1;32m     63\u001b[0m     \u001b[0;32mtry\u001b[0m\u001b[0;34m:\u001b[0m\u001b[0;34m\u001b[0m\u001b[0;34m\u001b[0m\u001b[0m\n\u001b[0;32m---> 64\u001b[0;31m       \u001b[0;32mreturn\u001b[0m \u001b[0mfn\u001b[0m\u001b[0;34m(\u001b[0m\u001b[0;34m*\u001b[0m\u001b[0margs\u001b[0m\u001b[0;34m,\u001b[0m \u001b[0;34m**\u001b[0m\u001b[0mkwargs\u001b[0m\u001b[0;34m)\u001b[0m\u001b[0;34m\u001b[0m\u001b[0;34m\u001b[0m\u001b[0m\n\u001b[0m\u001b[1;32m     65\u001b[0m     \u001b[0;32mexcept\u001b[0m \u001b[0mException\u001b[0m \u001b[0;32mas\u001b[0m \u001b[0me\u001b[0m\u001b[0;34m:\u001b[0m  \u001b[0;31m# pylint: disable=broad-except\u001b[0m\u001b[0;34m\u001b[0m\u001b[0;34m\u001b[0m\u001b[0m\n\u001b[1;32m     66\u001b[0m       \u001b[0mfiltered_tb\u001b[0m \u001b[0;34m=\u001b[0m \u001b[0m_process_traceback_frames\u001b[0m\u001b[0;34m(\u001b[0m\u001b[0me\u001b[0m\u001b[0;34m.\u001b[0m\u001b[0m__traceback__\u001b[0m\u001b[0;34m)\u001b[0m\u001b[0;34m\u001b[0m\u001b[0;34m\u001b[0m\u001b[0m\n",
            "\u001b[0;32m/usr/local/lib/python3.7/dist-packages/keras/engine/training.py\u001b[0m in \u001b[0;36mfit\u001b[0;34m(self, x, y, batch_size, epochs, verbose, callbacks, validation_split, validation_data, shuffle, class_weight, sample_weight, initial_epoch, steps_per_epoch, validation_steps, validation_batch_size, validation_freq, max_queue_size, workers, use_multiprocessing)\u001b[0m\n\u001b[1;32m   1374\u001b[0m         \u001b[0mcallbacks\u001b[0m\u001b[0;34m.\u001b[0m\u001b[0mon_epoch_begin\u001b[0m\u001b[0;34m(\u001b[0m\u001b[0mepoch\u001b[0m\u001b[0;34m)\u001b[0m\u001b[0;34m\u001b[0m\u001b[0;34m\u001b[0m\u001b[0m\n\u001b[1;32m   1375\u001b[0m         \u001b[0;32mwith\u001b[0m \u001b[0mdata_handler\u001b[0m\u001b[0;34m.\u001b[0m\u001b[0mcatch_stop_iteration\u001b[0m\u001b[0;34m(\u001b[0m\u001b[0;34m)\u001b[0m\u001b[0;34m:\u001b[0m\u001b[0;34m\u001b[0m\u001b[0;34m\u001b[0m\u001b[0m\n\u001b[0;32m-> 1376\u001b[0;31m           \u001b[0;32mfor\u001b[0m \u001b[0mstep\u001b[0m \u001b[0;32min\u001b[0m \u001b[0mdata_handler\u001b[0m\u001b[0;34m.\u001b[0m\u001b[0msteps\u001b[0m\u001b[0;34m(\u001b[0m\u001b[0;34m)\u001b[0m\u001b[0;34m:\u001b[0m\u001b[0;34m\u001b[0m\u001b[0;34m\u001b[0m\u001b[0m\n\u001b[0m\u001b[1;32m   1377\u001b[0m             with tf.profiler.experimental.Trace(\n\u001b[1;32m   1378\u001b[0m                 \u001b[0;34m'train'\u001b[0m\u001b[0;34m,\u001b[0m\u001b[0;34m\u001b[0m\u001b[0;34m\u001b[0m\u001b[0m\n",
            "\u001b[0;32m/usr/local/lib/python3.7/dist-packages/keras/engine/data_adapter.py\u001b[0m in \u001b[0;36msteps\u001b[0;34m(self)\u001b[0m\n\u001b[1;32m   1244\u001b[0m       \u001b[0;32mif\u001b[0m \u001b[0mself\u001b[0m\u001b[0;34m.\u001b[0m\u001b[0m_insufficient_data\u001b[0m\u001b[0;34m:\u001b[0m  \u001b[0;31m# Set by `catch_stop_iteration`.\u001b[0m\u001b[0;34m\u001b[0m\u001b[0;34m\u001b[0m\u001b[0m\n\u001b[1;32m   1245\u001b[0m         \u001b[0;32mbreak\u001b[0m\u001b[0;34m\u001b[0m\u001b[0;34m\u001b[0m\u001b[0m\n\u001b[0;32m-> 1246\u001b[0;31m       \u001b[0moriginal_spe\u001b[0m \u001b[0;34m=\u001b[0m \u001b[0mself\u001b[0m\u001b[0;34m.\u001b[0m\u001b[0m_steps_per_execution\u001b[0m\u001b[0;34m.\u001b[0m\u001b[0mnumpy\u001b[0m\u001b[0;34m(\u001b[0m\u001b[0;34m)\u001b[0m\u001b[0;34m.\u001b[0m\u001b[0mitem\u001b[0m\u001b[0;34m(\u001b[0m\u001b[0;34m)\u001b[0m\u001b[0;34m\u001b[0m\u001b[0;34m\u001b[0m\u001b[0m\n\u001b[0m\u001b[1;32m   1247\u001b[0m       can_run_full_execution = (\n\u001b[1;32m   1248\u001b[0m           \u001b[0moriginal_spe\u001b[0m \u001b[0;34m==\u001b[0m \u001b[0;36m1\u001b[0m \u001b[0;32mor\u001b[0m\u001b[0;34m\u001b[0m\u001b[0;34m\u001b[0m\u001b[0m\n",
            "\u001b[0;32m/usr/local/lib/python3.7/dist-packages/tensorflow/python/ops/resource_variable_ops.py\u001b[0m in \u001b[0;36mnumpy\u001b[0;34m(self)\u001b[0m\n\u001b[1;32m    672\u001b[0m   \u001b[0;32mdef\u001b[0m \u001b[0mnumpy\u001b[0m\u001b[0;34m(\u001b[0m\u001b[0mself\u001b[0m\u001b[0;34m)\u001b[0m\u001b[0;34m:\u001b[0m\u001b[0;34m\u001b[0m\u001b[0;34m\u001b[0m\u001b[0m\n\u001b[1;32m    673\u001b[0m     \u001b[0;32mif\u001b[0m \u001b[0mcontext\u001b[0m\u001b[0;34m.\u001b[0m\u001b[0mexecuting_eagerly\u001b[0m\u001b[0;34m(\u001b[0m\u001b[0;34m)\u001b[0m\u001b[0;34m:\u001b[0m\u001b[0;34m\u001b[0m\u001b[0;34m\u001b[0m\u001b[0m\n\u001b[0;32m--> 674\u001b[0;31m       \u001b[0;32mreturn\u001b[0m \u001b[0mself\u001b[0m\u001b[0;34m.\u001b[0m\u001b[0mread_value\u001b[0m\u001b[0;34m(\u001b[0m\u001b[0;34m)\u001b[0m\u001b[0;34m.\u001b[0m\u001b[0mnumpy\u001b[0m\u001b[0;34m(\u001b[0m\u001b[0;34m)\u001b[0m\u001b[0;34m\u001b[0m\u001b[0;34m\u001b[0m\u001b[0m\n\u001b[0m\u001b[1;32m    675\u001b[0m     raise NotImplementedError(\n\u001b[1;32m    676\u001b[0m         \"numpy() is only available when eager execution is enabled.\")\n",
            "\u001b[0;32m/usr/local/lib/python3.7/dist-packages/tensorflow/python/framework/ops.py\u001b[0m in \u001b[0;36mnumpy\u001b[0;34m(self)\u001b[0m\n\u001b[1;32m   1221\u001b[0m     \"\"\"\n\u001b[1;32m   1222\u001b[0m     \u001b[0;31m# TODO(slebedev): Consider avoiding a copy for non-CPU or remote tensors.\u001b[0m\u001b[0;34m\u001b[0m\u001b[0;34m\u001b[0m\u001b[0;34m\u001b[0m\u001b[0m\n\u001b[0;32m-> 1223\u001b[0;31m     \u001b[0mmaybe_arr\u001b[0m \u001b[0;34m=\u001b[0m \u001b[0mself\u001b[0m\u001b[0;34m.\u001b[0m\u001b[0m_numpy\u001b[0m\u001b[0;34m(\u001b[0m\u001b[0;34m)\u001b[0m  \u001b[0;31m# pylint: disable=protected-access\u001b[0m\u001b[0;34m\u001b[0m\u001b[0;34m\u001b[0m\u001b[0m\n\u001b[0m\u001b[1;32m   1224\u001b[0m     \u001b[0;32mreturn\u001b[0m \u001b[0mmaybe_arr\u001b[0m\u001b[0;34m.\u001b[0m\u001b[0mcopy\u001b[0m\u001b[0;34m(\u001b[0m\u001b[0;34m)\u001b[0m \u001b[0;32mif\u001b[0m \u001b[0misinstance\u001b[0m\u001b[0;34m(\u001b[0m\u001b[0mmaybe_arr\u001b[0m\u001b[0;34m,\u001b[0m \u001b[0mnp\u001b[0m\u001b[0;34m.\u001b[0m\u001b[0mndarray\u001b[0m\u001b[0;34m)\u001b[0m \u001b[0;32melse\u001b[0m \u001b[0mmaybe_arr\u001b[0m\u001b[0;34m\u001b[0m\u001b[0;34m\u001b[0m\u001b[0m\n\u001b[1;32m   1225\u001b[0m \u001b[0;34m\u001b[0m\u001b[0m\n",
            "\u001b[0;32m/usr/local/lib/python3.7/dist-packages/tensorflow/python/framework/ops.py\u001b[0m in \u001b[0;36m_numpy\u001b[0;34m(self)\u001b[0m\n\u001b[1;32m   1187\u001b[0m   \u001b[0;32mdef\u001b[0m \u001b[0m_numpy\u001b[0m\u001b[0;34m(\u001b[0m\u001b[0mself\u001b[0m\u001b[0;34m)\u001b[0m\u001b[0;34m:\u001b[0m\u001b[0;34m\u001b[0m\u001b[0;34m\u001b[0m\u001b[0m\n\u001b[1;32m   1188\u001b[0m     \u001b[0;32mtry\u001b[0m\u001b[0;34m:\u001b[0m\u001b[0;34m\u001b[0m\u001b[0;34m\u001b[0m\u001b[0m\n\u001b[0;32m-> 1189\u001b[0;31m       \u001b[0;32mreturn\u001b[0m \u001b[0mself\u001b[0m\u001b[0;34m.\u001b[0m\u001b[0m_numpy_internal\u001b[0m\u001b[0;34m(\u001b[0m\u001b[0;34m)\u001b[0m\u001b[0;34m\u001b[0m\u001b[0;34m\u001b[0m\u001b[0m\n\u001b[0m\u001b[1;32m   1190\u001b[0m     \u001b[0;32mexcept\u001b[0m \u001b[0mcore\u001b[0m\u001b[0;34m.\u001b[0m\u001b[0m_NotOkStatusException\u001b[0m \u001b[0;32mas\u001b[0m \u001b[0me\u001b[0m\u001b[0;34m:\u001b[0m  \u001b[0;31m# pylint: disable=protected-access\u001b[0m\u001b[0;34m\u001b[0m\u001b[0;34m\u001b[0m\u001b[0m\n\u001b[1;32m   1191\u001b[0m       \u001b[0;32mraise\u001b[0m \u001b[0mcore\u001b[0m\u001b[0;34m.\u001b[0m\u001b[0m_status_to_exception\u001b[0m\u001b[0;34m(\u001b[0m\u001b[0me\u001b[0m\u001b[0;34m)\u001b[0m \u001b[0;32mfrom\u001b[0m \u001b[0;32mNone\u001b[0m  \u001b[0;31m# pylint: disable=protected-access\u001b[0m\u001b[0;34m\u001b[0m\u001b[0;34m\u001b[0m\u001b[0m\n",
            "\u001b[0;31mKeyboardInterrupt\u001b[0m: "
          ]
        }
      ]
    },
    {
      "cell_type": "code",
      "source": [
        "BEST_ACCURACY"
      ],
      "metadata": {
        "colab": {
          "base_uri": "https://localhost:8080/"
        },
        "id": "eK_Pns9b6zIQ",
        "outputId": "df9cc6f0-3b45-4d5d-b0f4-57d164e620ca"
      },
      "id": "eK_Pns9b6zIQ",
      "execution_count": 26,
      "outputs": [
        {
          "output_type": "execute_result",
          "data": {
            "text/plain": [
              "0.9859523773193359"
            ]
          },
          "metadata": {},
          "execution_count": 26
        }
      ]
    },
    {
      "cell_type": "code",
      "source": [
        "BEST_PARAMS"
      ],
      "metadata": {
        "colab": {
          "base_uri": "https://localhost:8080/"
        },
        "id": "65diJAp-62-8",
        "outputId": "231ccba7-7684-48b6-8c2f-324ba2ba8dc8"
      },
      "id": "65diJAp-62-8",
      "execution_count": 27,
      "outputs": [
        {
          "output_type": "execute_result",
          "data": {
            "text/plain": [
              "{'BATCH_NORM': True,\n",
              " 'CONV': [(32, 7)],\n",
              " 'DENSE': [1024, 256, 32],\n",
              " 'DROPOUT': 0.15,\n",
              " 'LEARNING_RATE': 0.003,\n",
              " 'OPTIMIZER': 'adam'}"
            ]
          },
          "metadata": {},
          "execution_count": 27
        }
      ]
    },
    {
      "cell_type": "markdown",
      "source": [
        "## Build Best Model"
      ],
      "metadata": {
        "id": "sM6ONLrPAJG0"
      },
      "id": "sM6ONLrPAJG0"
    },
    {
      "cell_type": "code",
      "source": [
        "best_model = build_cnn_model(conv_layers=BEST_PARAMS['CONV'], \n",
        "                             dense_layers=BEST_PARAMS['DENSE'],\n",
        "                             optimizer=BEST_PARAMS['OPTIMIZER'], \n",
        "                             lr=BEST_PARAMS['LEARNING_RATE'], \n",
        "                             dropout=BEST_PARAMS['DROPOUT'], \n",
        "                             with_batch_norm=BEST_PARAMS['BATCH_NORM'])"
      ],
      "metadata": {
        "id": "dxTR4ZNaAMLi"
      },
      "id": "dxTR4ZNaAMLi",
      "execution_count": null,
      "outputs": []
    },
    {
      "cell_type": "code",
      "source": [
        "model.summary()"
      ],
      "metadata": {
        "id": "dI2hB0ArAOAK"
      },
      "id": "dI2hB0ArAOAK",
      "execution_count": null,
      "outputs": []
    },
    {
      "cell_type": "markdown",
      "id": "3e95c6d9",
      "metadata": {
        "id": "3e95c6d9"
      },
      "source": [
        "### Retrain on entire data"
      ]
    },
    {
      "cell_type": "code",
      "execution_count": null,
      "id": "50f30a1a",
      "metadata": {
        "id": "50f30a1a"
      },
      "outputs": [],
      "source": [
        "model.fit(X, y, epochs=EPOCHS, batch_size=BATCH_SIZE)"
      ]
    },
    {
      "cell_type": "markdown",
      "id": "e13dff73",
      "metadata": {
        "id": "e13dff73"
      },
      "source": [
        "### Predict on Test data"
      ]
    },
    {
      "cell_type": "code",
      "execution_count": null,
      "id": "27fbd0c6",
      "metadata": {
        "id": "27fbd0c6"
      },
      "outputs": [],
      "source": [
        "mnist_test"
      ]
    },
    {
      "cell_type": "code",
      "execution_count": null,
      "id": "309349a6",
      "metadata": {
        "id": "309349a6"
      },
      "outputs": [],
      "source": [
        "X_test = mnist_test.to_numpy().reshape(-1, 28, 28, 1)\n",
        "X_test.shape"
      ]
    },
    {
      "cell_type": "code",
      "execution_count": null,
      "id": "f87a060e",
      "metadata": {
        "id": "f87a060e"
      },
      "outputs": [],
      "source": [
        "y_pred = model.predict(X_test)\n",
        "y_pred"
      ]
    },
    {
      "cell_type": "code",
      "execution_count": null,
      "id": "4541ad60",
      "metadata": {
        "id": "4541ad60"
      },
      "outputs": [],
      "source": [
        "predictions = y_pred.argmax(axis=-1)\n",
        "predictions"
      ]
    },
    {
      "cell_type": "markdown",
      "id": "cafa79db",
      "metadata": {
        "id": "cafa79db"
      },
      "source": [
        "## Create Submission"
      ]
    },
    {
      "cell_type": "code",
      "execution_count": null,
      "id": "710fb300",
      "metadata": {
        "id": "710fb300"
      },
      "outputs": [],
      "source": [
        "submission = pd.DataFrame({'ImageId': range(1, len(y_pred) + 1), 'Label': predictions})\n",
        "submission"
      ]
    },
    {
      "cell_type": "code",
      "execution_count": null,
      "id": "9bcdb23c",
      "metadata": {
        "id": "9bcdb23c"
      },
      "outputs": [],
      "source": [
        "submission.to_csv('/submission.csv', index=False)"
      ]
    },
    {
      "cell_type": "code",
      "execution_count": null,
      "id": "8730d0f7",
      "metadata": {
        "id": "8730d0f7"
      },
      "outputs": [],
      "source": [
        ""
      ]
    }
  ],
  "metadata": {
    "kernelspec": {
      "display_name": "Python 3 (ipykernel)",
      "language": "python",
      "name": "python3"
    },
    "language_info": {
      "codemirror_mode": {
        "name": "ipython",
        "version": 3
      },
      "file_extension": ".py",
      "mimetype": "text/x-python",
      "name": "python",
      "nbconvert_exporter": "python",
      "pygments_lexer": "ipython3",
      "version": "3.9.9"
    },
    "colab": {
      "name": "MNIST_CNN_with_Grid_Search.ipynb",
      "provenance": [],
      "collapsed_sections": []
    },
    "accelerator": "GPU"
  },
  "nbformat": 4,
  "nbformat_minor": 5
}